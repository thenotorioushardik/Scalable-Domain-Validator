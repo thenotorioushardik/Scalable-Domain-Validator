{
 "cells": [
  {
   "cell_type": "code",
   "execution_count": 11,
   "metadata": {},
   "outputs": [],
   "source": [
    "import requests\n",
    "import pandas as pd\n",
    "import re\n",
    "from urllib.parse import urlparse\n",
    "import dask\n",
    "from dask import delayed"
   ]
  },
  {
   "cell_type": "code",
   "execution_count": 12,
   "metadata": {},
   "outputs": [],
   "source": [
    "\n",
    "def clean_domain(url):\n",
    "    \"\"\"Remove prefixes like http, https, www and trailing slashes.\"\"\"\n",
    "    url = url.lower().strip()\n",
    "    url = re.sub(r\"^https?://\", \"\", url)\n",
    "    url = re.sub(r\"^www\\.\", \"\", url)\n",
    "    return url.rstrip('/')\n",
    "\n",
    "@delayed\n",
    "def check_domain_for_dask(domain, prefixes, session):\n",
    "    \"\"\"Check the status of a single domain (wrapped for Dask).\"\"\"\n",
    "    status_code = None\n",
    "    status = \"Invalid\"\n",
    "    redirected_domain = \"\"\n",
    "    \n",
    "    # Check domain with and without prefixes\n",
    "    for prefix in prefixes:\n",
    "        url = prefix + domain\n",
    "        try:\n",
    "            response = session.get(url, timeout=5, allow_redirects=True)\n",
    "            status_code = response.status_code\n",
    "            final_url = response.url\n",
    "            cleaned_final_url = clean_domain(final_url)\n",
    "            cleaned_input_domain = clean_domain(domain)\n",
    "            \n",
    "            if response.ok:\n",
    "                if cleaned_input_domain == cleaned_final_url:\n",
    "                    status = \"Valid\"\n",
    "                else:\n",
    "                    status = \"Redirected\"\n",
    "                    redirected_domain = cleaned_final_url\n",
    "                break\n",
    "                \n",
    "        except requests.RequestException:\n",
    "            continue\n",
    "    \n",
    "    return {\n",
    "        \"input domain\": domain, \n",
    "        \"status code\": status_code, \n",
    "        \"status\": status, \n",
    "        \"redirected domain\": redirected_domain\n",
    "    }\n",
    "\n",
    "def check_domain_status(input_file, output_file):\n",
    "    df = pd.read_csv(input_file, low_memory=False)\n",
    "    column_name = df.columns[0]\n",
    "    domains = df.iloc[:, 0].dropna().astype(str).tolist()\n",
    "\n",
    "    # Request headers and URL prefixes\n",
    "    headers = {\"User-Agent\": \"Mozilla/5.0\"}\n",
    "    prefixes = [\"\", \"https://\", \"https://www.\", \"http://\", \"http://www.\"]\n",
    "    \n",
    "    # Initialize a session for better performance\n",
    "    session = requests.Session()\n",
    "    session.headers.update(headers)\n",
    "    \n",
    "    results = []\n",
    "\n",
    "    for domain in domains:\n",
    "        results.append(check_domain_for_dask(domain, prefixes, session))\n",
    "    \n",
    "    results = dask.compute(*results)\n",
    "    \n",
    "    result_df = pd.DataFrame(results)\n",
    "    result_df.to_csv(output_file, index=False)"
   ]
  },
  {
   "cell_type": "code",
   "execution_count": null,
   "metadata": {},
   "outputs": [],
   "source": [
    "\n",
    "check_domain_status(\"your_input_file.csv\", \"your_output_file.csv\")"
   ]
  }
 ],
 "metadata": {
  "kernelspec": {
   "display_name": "base",
   "language": "python",
   "name": "python3"
  },
  "language_info": {
   "codemirror_mode": {
    "name": "ipython",
    "version": 3
   },
   "file_extension": ".py",
   "mimetype": "text/x-python",
   "name": "python",
   "nbconvert_exporter": "python",
   "pygments_lexer": "ipython3",
   "version": "3.9.13"
  }
 },
 "nbformat": 4,
 "nbformat_minor": 2
}
